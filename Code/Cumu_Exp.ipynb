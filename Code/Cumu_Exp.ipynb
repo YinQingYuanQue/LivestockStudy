{
 "cells": [
  {
   "cell_type": "code",
   "execution_count": 2,
   "metadata": {},
   "outputs": [],
   "source": [
    "import pandas as pd\n",
    "import geopandas as gpd\n",
    "import matplotlib.pyplot as plt\n",
    "from tqdm import tqdm\n",
    "import numpy as np\n",
    "%matplotlib inline"
   ]
  },
  {
   "attachments": {},
   "cell_type": "markdown",
   "metadata": {},
   "source": [
    "Link the Fuzzy table to GPS file"
   ]
  },
  {
   "cell_type": "code",
   "execution_count": 17,
   "metadata": {},
   "outputs": [
    {
     "data": {
      "text/html": [
       "<div>\n",
       "<style scoped>\n",
       "    .dataframe tbody tr th:only-of-type {\n",
       "        vertical-align: middle;\n",
       "    }\n",
       "\n",
       "    .dataframe tbody tr th {\n",
       "        vertical-align: top;\n",
       "    }\n",
       "\n",
       "    .dataframe thead th {\n",
       "        text-align: right;\n",
       "    }\n",
       "</style>\n",
       "<table border=\"1\" class=\"dataframe\">\n",
       "  <thead>\n",
       "    <tr style=\"text-align: right;\">\n",
       "      <th></th>\n",
       "      <th>GMT Time</th>\n",
       "      <th>Latitude</th>\n",
       "      <th>Longitude</th>\n",
       "      <th>Altitude</th>\n",
       "      <th>Duration</th>\n",
       "      <th>Temperatur</th>\n",
       "      <th>DOP</th>\n",
       "      <th>Satellites</th>\n",
       "      <th>Cause of F</th>\n",
       "      <th>Lab_Coord</th>\n",
       "      <th>...</th>\n",
       "      <th>P_V</th>\n",
       "      <th>Risk1</th>\n",
       "      <th>ODBA_mean</th>\n",
       "      <th>ODBA_std</th>\n",
       "      <th>VeDBA_mean</th>\n",
       "      <th>VeDBA_std</th>\n",
       "      <th>0</th>\n",
       "      <th>1</th>\n",
       "      <th>2</th>\n",
       "      <th>3</th>\n",
       "    </tr>\n",
       "  </thead>\n",
       "  <tbody>\n",
       "    <tr>\n",
       "      <th>0</th>\n",
       "      <td>2022-10-15 15:50:00</td>\n",
       "      <td>36.186840</td>\n",
       "      <td>-109.906149</td>\n",
       "      <td>1989.69</td>\n",
       "      <td>31</td>\n",
       "      <td>18.5</td>\n",
       "      <td>2.4</td>\n",
       "      <td>5</td>\n",
       "      <td>GPS Schedule</td>\n",
       "      <td>0.0</td>\n",
       "      <td>...</td>\n",
       "      <td>NaN</td>\n",
       "      <td>0.272153</td>\n",
       "      <td>47.385542</td>\n",
       "      <td>15.697311</td>\n",
       "      <td>32.367942</td>\n",
       "      <td>10.284656</td>\n",
       "      <td>0.50000</td>\n",
       "      <td>0.500000</td>\n",
       "      <td>0.500000</td>\n",
       "      <td>0</td>\n",
       "    </tr>\n",
       "    <tr>\n",
       "      <th>1</th>\n",
       "      <td>2022-10-15 16:00:00</td>\n",
       "      <td>36.186915</td>\n",
       "      <td>-109.906872</td>\n",
       "      <td>1998.64</td>\n",
       "      <td>1</td>\n",
       "      <td>22.5</td>\n",
       "      <td>2.6</td>\n",
       "      <td>5</td>\n",
       "      <td>GPS Schedule</td>\n",
       "      <td>0.0</td>\n",
       "      <td>...</td>\n",
       "      <td>NaN</td>\n",
       "      <td>0.264060</td>\n",
       "      <td>41.643216</td>\n",
       "      <td>16.249572</td>\n",
       "      <td>29.370781</td>\n",
       "      <td>11.273015</td>\n",
       "      <td>0.50000</td>\n",
       "      <td>0.500000</td>\n",
       "      <td>0.500000</td>\n",
       "      <td>1</td>\n",
       "    </tr>\n",
       "    <tr>\n",
       "      <th>2</th>\n",
       "      <td>2022-10-15 16:10:00</td>\n",
       "      <td>36.188133</td>\n",
       "      <td>-109.907068</td>\n",
       "      <td>1993.42</td>\n",
       "      <td>2</td>\n",
       "      <td>24.5</td>\n",
       "      <td>2.6</td>\n",
       "      <td>5</td>\n",
       "      <td>GPS Schedule</td>\n",
       "      <td>0.0</td>\n",
       "      <td>...</td>\n",
       "      <td>NaN</td>\n",
       "      <td>0.265964</td>\n",
       "      <td>39.608040</td>\n",
       "      <td>9.189088</td>\n",
       "      <td>28.150957</td>\n",
       "      <td>5.402031</td>\n",
       "      <td>0.30000</td>\n",
       "      <td>0.608871</td>\n",
       "      <td>0.965872</td>\n",
       "      <td>2</td>\n",
       "    </tr>\n",
       "    <tr>\n",
       "      <th>3</th>\n",
       "      <td>2022-10-15 16:20:00</td>\n",
       "      <td>36.188461</td>\n",
       "      <td>-109.907021</td>\n",
       "      <td>1994.45</td>\n",
       "      <td>9</td>\n",
       "      <td>27.0</td>\n",
       "      <td>2.4</td>\n",
       "      <td>5</td>\n",
       "      <td>GPS Schedule</td>\n",
       "      <td>0.0</td>\n",
       "      <td>...</td>\n",
       "      <td>NaN</td>\n",
       "      <td>0.266029</td>\n",
       "      <td>37.195980</td>\n",
       "      <td>9.208734</td>\n",
       "      <td>27.551326</td>\n",
       "      <td>4.374411</td>\n",
       "      <td>0.30000</td>\n",
       "      <td>0.637585</td>\n",
       "      <td>0.962199</td>\n",
       "      <td>3</td>\n",
       "    </tr>\n",
       "    <tr>\n",
       "      <th>4</th>\n",
       "      <td>2022-10-15 16:30:00</td>\n",
       "      <td>36.188479</td>\n",
       "      <td>-109.906926</td>\n",
       "      <td>1981.54</td>\n",
       "      <td>4</td>\n",
       "      <td>28.0</td>\n",
       "      <td>2.0</td>\n",
       "      <td>5</td>\n",
       "      <td>GPS Schedule</td>\n",
       "      <td>0.0</td>\n",
       "      <td>...</td>\n",
       "      <td>NaN</td>\n",
       "      <td>0.266327</td>\n",
       "      <td>36.437186</td>\n",
       "      <td>5.428829</td>\n",
       "      <td>26.962726</td>\n",
       "      <td>2.550263</td>\n",
       "      <td>0.37826</td>\n",
       "      <td>0.574275</td>\n",
       "      <td>0.913993</td>\n",
       "      <td>4</td>\n",
       "    </tr>\n",
       "  </tbody>\n",
       "</table>\n",
       "<p>5 rows × 34 columns</p>\n",
       "</div>"
      ],
      "text/plain": [
       "              GMT Time   Latitude   Longitude  Altitude  Duration  Temperatur  \\\n",
       "0  2022-10-15 15:50:00  36.186840 -109.906149   1989.69        31        18.5   \n",
       "1  2022-10-15 16:00:00  36.186915 -109.906872   1998.64         1        22.5   \n",
       "2  2022-10-15 16:10:00  36.188133 -109.907068   1993.42         2        24.5   \n",
       "3  2022-10-15 16:20:00  36.188461 -109.907021   1994.45         9        27.0   \n",
       "4  2022-10-15 16:30:00  36.188479 -109.906926   1981.54         4        28.0   \n",
       "\n",
       "   DOP  Satellites    Cause of F  Lab_Coord  ...  P_V     Risk1  ODBA_mean  \\\n",
       "0  2.4           5  GPS Schedule        0.0  ...  NaN  0.272153  47.385542   \n",
       "1  2.6           5  GPS Schedule        0.0  ...  NaN  0.264060  41.643216   \n",
       "2  2.6           5  GPS Schedule        0.0  ...  NaN  0.265964  39.608040   \n",
       "3  2.4           5  GPS Schedule        0.0  ...  NaN  0.266029  37.195980   \n",
       "4  2.0           5  GPS Schedule        0.0  ...  NaN  0.266327  36.437186   \n",
       "\n",
       "    ODBA_std VeDBA_mean  VeDBA_std        0         1         2  3  \n",
       "0  15.697311  32.367942  10.284656  0.50000  0.500000  0.500000  0  \n",
       "1  16.249572  29.370781  11.273015  0.50000  0.500000  0.500000  1  \n",
       "2   9.189088  28.150957   5.402031  0.30000  0.608871  0.965872  2  \n",
       "3   9.208734  27.551326   4.374411  0.30000  0.637585  0.962199  3  \n",
       "4   5.428829  26.962726   2.550263  0.37826  0.574275  0.913993  4  \n",
       "\n",
       "[5 rows x 34 columns]"
      ]
     },
     "execution_count": 17,
     "metadata": {},
     "output_type": "execute_result"
    }
   ],
   "source": [
    "GPS_939 = pd.read_csv('../Data/testData/GPS/CSV/939.csv')\n",
    "FZ_939 = pd.read_csv('../Fuzzy/Fuzzy_table/Output_939.csv', header = None)\n",
    "df_939 = pd.merge(GPS_939, FZ_939, left_on='No', right_on= 3, how='inner')\n",
    "df_939.head()"
   ]
  },
  {
   "cell_type": "code",
   "execution_count": 18,
   "metadata": {},
   "outputs": [
    {
     "data": {
      "text/html": [
       "<div>\n",
       "<style scoped>\n",
       "    .dataframe tbody tr th:only-of-type {\n",
       "        vertical-align: middle;\n",
       "    }\n",
       "\n",
       "    .dataframe tbody tr th {\n",
       "        vertical-align: top;\n",
       "    }\n",
       "\n",
       "    .dataframe thead th {\n",
       "        text-align: right;\n",
       "    }\n",
       "</style>\n",
       "<table border=\"1\" class=\"dataframe\">\n",
       "  <thead>\n",
       "    <tr style=\"text-align: right;\">\n",
       "      <th></th>\n",
       "      <th>0</th>\n",
       "      <th>1</th>\n",
       "      <th>2</th>\n",
       "      <th>3</th>\n",
       "    </tr>\n",
       "  </thead>\n",
       "  <tbody>\n",
       "    <tr>\n",
       "      <th>0</th>\n",
       "      <td>0.50000</td>\n",
       "      <td>0.500000</td>\n",
       "      <td>0.500000</td>\n",
       "      <td>0</td>\n",
       "    </tr>\n",
       "    <tr>\n",
       "      <th>1</th>\n",
       "      <td>0.50000</td>\n",
       "      <td>0.500000</td>\n",
       "      <td>0.500000</td>\n",
       "      <td>1</td>\n",
       "    </tr>\n",
       "    <tr>\n",
       "      <th>2</th>\n",
       "      <td>0.30000</td>\n",
       "      <td>0.608871</td>\n",
       "      <td>0.965872</td>\n",
       "      <td>2</td>\n",
       "    </tr>\n",
       "    <tr>\n",
       "      <th>3</th>\n",
       "      <td>0.30000</td>\n",
       "      <td>0.637585</td>\n",
       "      <td>0.962199</td>\n",
       "      <td>3</td>\n",
       "    </tr>\n",
       "    <tr>\n",
       "      <th>4</th>\n",
       "      <td>0.37826</td>\n",
       "      <td>0.574275</td>\n",
       "      <td>0.913993</td>\n",
       "      <td>4</td>\n",
       "    </tr>\n",
       "  </tbody>\n",
       "</table>\n",
       "</div>"
      ],
      "text/plain": [
       "         0         1         2  3\n",
       "0  0.50000  0.500000  0.500000  0\n",
       "1  0.50000  0.500000  0.500000  1\n",
       "2  0.30000  0.608871  0.965872  2\n",
       "3  0.30000  0.637585  0.962199  3\n",
       "4  0.37826  0.574275  0.913993  4"
      ]
     },
     "execution_count": 18,
     "metadata": {},
     "output_type": "execute_result"
    }
   ],
   "source": [
    "FZ_939 = pd.read_csv('../Fuzzy/Fuzzy_table/Output_939.csv', header = ['FZ_Low'])\n",
    "FZ_939.head()"
   ]
  },
  {
   "cell_type": "code",
   "execution_count": 5,
   "metadata": {},
   "outputs": [
    {
     "data": {
      "text/plain": [
       "(0.19705118559057702, 2.9181122631977896)"
      ]
     },
     "execution_count": 5,
     "metadata": {},
     "output_type": "execute_result"
    },
    {
     "data": {
      "image/png": "[encoded data removed]",
      "text/plain": [
       "<Figure size 432x288 with 1 Axes>"
      ]
     },
     "metadata": {
      "needs_background": "light"
     },
     "output_type": "display_data"
    }
   ],
   "source": [
    "speed = df_939['speed']\n",
    "speed = np.sort(speed)\n",
    "alpha = 0.1\n",
    "speed = speed[int(speed.shape[0]*alpha):int(speed.shape[0]*(1-alpha))]\n",
    "plt.hist(speed)\n",
    "plt.xlim(0,20)\n",
    "speed[0], speed[-1]"
   ]
  },
  {
   "cell_type": "code",
   "execution_count": 4,
   "metadata": {},
   "outputs": [
    {
     "data": {
      "text/plain": [
       "(2.03571942814069, 35.02119788011925)"
      ]
     },
     "execution_count": 4,
     "metadata": {},
     "output_type": "execute_result"
    },
    {
     "data": {
      "image/png": "[encoded data removed]",
      "text/plain": [
       "<Figure size 432x288 with 1 Axes>"
      ]
     },
     "metadata": {
      "needs_background": "light"
     },
     "output_type": "display_data"
    }
   ],
   "source": [
    "dis = df_939['distance']\n",
    "dis = np.sort(dis)\n",
    "alpha = 0.1\n",
    "dis = dis[int(dis.shape[0]*alpha):int(dis.shape[0]*(1-alpha))]\n",
    "plt.hist(dis)\n",
    "#plt.xlim(0,20)\n",
    "dis[0], dis[-1]"
   ]
  },
  {
   "cell_type": "code",
   "execution_count": 6,
   "metadata": {},
   "outputs": [
    {
     "data": {
      "text/plain": [
       "(36.949748743718594, 49.28140703517589)"
      ]
     },
     "execution_count": 6,
     "metadata": {},
     "output_type": "execute_result"
    },
    {
     "data": {
      "image/png": "[encoded data removed]",
      "text/plain": [
       "<Figure size 432x288 with 1 Axes>"
      ]
     },
     "metadata": {
      "needs_background": "light"
     },
     "output_type": "display_data"
    }
   ],
   "source": [
    "ODBA_mean = df_939['ODBA_mean']\n",
    "ODBA_mean = np.sort(ODBA_mean)\n",
    "alpha = 0.1\n",
    "ODBA_mean = ODBA_mean[int(ODBA_mean.shape[0]*alpha):int(ODBA_mean.shape[0]*(1-alpha))]\n",
    "plt.hist(ODBA_mean)\n",
    "#plt.xlim(0,20)\n",
    "ODBA_mean[0], ODBA_mean[-1]"
   ]
  },
  {
   "cell_type": "code",
   "execution_count": 9,
   "metadata": {},
   "outputs": [
    {
     "data": {
      "text/plain": [
       "(2.2920853410654236, 5.236174819510578)"
      ]
     },
     "execution_count": 9,
     "metadata": {},
     "output_type": "execute_result"
    },
    {
     "data": {
      "image/png": "[encoded data removed]",
      "text/plain": [
       "<Figure size 432x288 with 1 Axes>"
      ]
     },
     "metadata": {
      "needs_background": "light"
     },
     "output_type": "display_data"
    }
   ],
   "source": [
    "ODBA_std = df_939['ODBA_std']\n",
    "ODBA_std = np.sort(ODBA_std)\n",
    "alpha = 0.3\n",
    "ODBA_std = ODBA_std[int(ODBA_std.shape[0]*alpha):int(ODBA_std.shape[0]*(1-alpha))]\n",
    "plt.hist(ODBA_std)\n",
    "#plt.xlim(0,20)\n",
    "ODBA_std[0], ODBA_std[-1]"
   ]
  },
  {
   "cell_type": "code",
   "execution_count": 8,
   "metadata": {},
   "outputs": [
    {
     "data": {
      "text/plain": [
       "(3.0097775901875865, 4.372558137410378)"
      ]
     },
     "execution_count": 8,
     "metadata": {},
     "output_type": "execute_result"
    },
    {
     "data": {
      "image/png": "[encoded data removed]",
      "text/plain": [
       "<Figure size 432x288 with 1 Axes>"
      ]
     },
     "metadata": {
      "needs_background": "light"
     },
     "output_type": "display_data"
    }
   ],
   "source": [
    "ODBA_std = df_939['ODBA_std']\n",
    "ODBA_std = np.sort(ODBA_std)\n",
    "alpha = 0.4\n",
    "ODBA_std = ODBA_std[int(ODBA_std.shape[0]*alpha):int(ODBA_std.shape[0]*(1-alpha))]\n",
    "plt.hist(ODBA_std)\n",
    "#plt.xlim(0,20)\n",
    "ODBA_std[0], ODBA_std[-1]"
   ]
  }
 ],
 "metadata": {
  "kernelspec": {
   "display_name": "geo_env",
   "language": "python",
   "name": "python3"
  },
  "language_info": {
   "codemirror_mode": {
    "name": "ipython",
    "version": 3
   },
   "file_extension": ".py",
   "mimetype": "text/x-python",
   "name": "python",
   "nbconvert_exporter": "python",
   "pygments_lexer": "ipython3",
   "version": "3.10.6"
  },
  "orig_nbformat": 4
 },
 "nbformat": 4,
 "nbformat_minor": 2
}
