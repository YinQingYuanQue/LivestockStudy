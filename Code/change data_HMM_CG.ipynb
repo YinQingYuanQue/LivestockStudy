{
 "cells": [
  {
   "cell_type": "code",
   "execution_count": 1,
   "metadata": {},
   "outputs": [],
   "source": [
    "import geopandas as gpd"
   ]
  },
  {
   "cell_type": "code",
   "execution_count": 24,
   "metadata": {},
   "outputs": [],
   "source": [
    "file = r'804_HMM_FZ.shp'\n",
    "df = gpd.read_file(file)\n"
   ]
  },
  {
   "cell_type": "code",
   "execution_count": 25,
   "metadata": {},
   "outputs": [],
   "source": [
    "df['Grazing'] = df['Grazing'].astype('float')\n",
    "df['Traveling'] = df['Traveling'].astype('float')\n",
    "df['Resting'] = df['Resting'].astype('float')"
   ]
  },
  {
   "cell_type": "code",
   "execution_count": 26,
   "metadata": {},
   "outputs": [],
   "source": [
    "df.to_file(file)"
   ]
  }
 ],
 "metadata": {
  "kernelspec": {
   "display_name": "geopandas_docs",
   "language": "python",
   "name": "python3"
  },
  "language_info": {
   "codemirror_mode": {
    "name": "ipython",
    "version": 3
   },
   "file_extension": ".py",
   "mimetype": "text/x-python",
   "name": "python",
   "nbconvert_exporter": "python",
   "pygments_lexer": "ipython3",
   "version": "3.10.6"
  },
  "orig_nbformat": 4,
  "vscode": {
   "interpreter": {
    "hash": "9feee53a56eaf78f6cf60489ecb35c2de6dbc78f48626251313122ba5d67e64f"
   }
  }
 },
 "nbformat": 4,
 "nbformat_minor": 2
}
