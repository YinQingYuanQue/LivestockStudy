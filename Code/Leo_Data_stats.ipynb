{
 "cells": [
  {
   "cell_type": "code",
   "execution_count": 2,
   "metadata": {},
   "outputs": [],
   "source": [
    "import pandas as pd\n",
    "import matplotlib.pyplot as plt\n",
    "import numpy as np\n",
    "import geopandas as gpd"
   ]
  },
  {
   "cell_type": "code",
   "execution_count": 4,
   "metadata": {},
   "outputs": [
    {
     "data": {
      "text/html": [
       "<div>\n",
       "<style scoped>\n",
       "    .dataframe tbody tr th:only-of-type {\n",
       "        vertical-align: middle;\n",
       "    }\n",
       "\n",
       "    .dataframe tbody tr th {\n",
       "        vertical-align: top;\n",
       "    }\n",
       "\n",
       "    .dataframe thead th {\n",
       "        text-align: right;\n",
       "    }\n",
       "</style>\n",
       "<table border=\"1\" class=\"dataframe\">\n",
       "  <thead>\n",
       "    <tr style=\"text-align: right;\">\n",
       "      <th></th>\n",
       "      <th>GMT Time</th>\n",
       "      <th>Latitude</th>\n",
       "      <th>Longitude</th>\n",
       "      <th>Altitude</th>\n",
       "      <th>Duration</th>\n",
       "      <th>Temperatur</th>\n",
       "      <th>DOP</th>\n",
       "      <th>Satellites</th>\n",
       "      <th>Cause of F</th>\n",
       "      <th>Lab_Coord</th>\n",
       "      <th>...</th>\n",
       "      <th>Y_mean</th>\n",
       "      <th>Y_std</th>\n",
       "      <th>Z_mean</th>\n",
       "      <th>Z_std</th>\n",
       "      <th>P_V</th>\n",
       "      <th>Risk1</th>\n",
       "      <th>ODBA_mean</th>\n",
       "      <th>ODBA_std</th>\n",
       "      <th>VeDBA_mean</th>\n",
       "      <th>VeDBA_std</th>\n",
       "    </tr>\n",
       "  </thead>\n",
       "  <tbody>\n",
       "    <tr>\n",
       "      <th>0</th>\n",
       "      <td>2022-10-15 15:50:00</td>\n",
       "      <td>36.186840</td>\n",
       "      <td>-109.906149</td>\n",
       "      <td>1989.69</td>\n",
       "      <td>31</td>\n",
       "      <td>18.5</td>\n",
       "      <td>2.4</td>\n",
       "      <td>5</td>\n",
       "      <td>GPS Schedule</td>\n",
       "      <td>0.0</td>\n",
       "      <td>...</td>\n",
       "      <td>-7.313253</td>\n",
       "      <td>17.161829</td>\n",
       "      <td>-0.771084</td>\n",
       "      <td>22.984712</td>\n",
       "      <td>NaN</td>\n",
       "      <td>0.272153</td>\n",
       "      <td>47.385542</td>\n",
       "      <td>15.697311</td>\n",
       "      <td>32.367942</td>\n",
       "      <td>10.284656</td>\n",
       "    </tr>\n",
       "    <tr>\n",
       "      <th>1</th>\n",
       "      <td>2022-10-15 16:00:00</td>\n",
       "      <td>36.186915</td>\n",
       "      <td>-109.906872</td>\n",
       "      <td>1998.64</td>\n",
       "      <td>1</td>\n",
       "      <td>22.5</td>\n",
       "      <td>2.6</td>\n",
       "      <td>5</td>\n",
       "      <td>GPS Schedule</td>\n",
       "      <td>0.0</td>\n",
       "      <td>...</td>\n",
       "      <td>-1.216080</td>\n",
       "      <td>11.235646</td>\n",
       "      <td>-23.462312</td>\n",
       "      <td>12.015791</td>\n",
       "      <td>NaN</td>\n",
       "      <td>0.264060</td>\n",
       "      <td>41.643216</td>\n",
       "      <td>16.249572</td>\n",
       "      <td>29.370781</td>\n",
       "      <td>11.273015</td>\n",
       "    </tr>\n",
       "    <tr>\n",
       "      <th>2</th>\n",
       "      <td>2022-10-15 16:10:00</td>\n",
       "      <td>36.188133</td>\n",
       "      <td>-109.907068</td>\n",
       "      <td>1993.42</td>\n",
       "      <td>2</td>\n",
       "      <td>24.5</td>\n",
       "      <td>2.6</td>\n",
       "      <td>5</td>\n",
       "      <td>GPS Schedule</td>\n",
       "      <td>0.0</td>\n",
       "      <td>...</td>\n",
       "      <td>-3.221106</td>\n",
       "      <td>8.686115</td>\n",
       "      <td>-23.351759</td>\n",
       "      <td>6.430681</td>\n",
       "      <td>NaN</td>\n",
       "      <td>0.265964</td>\n",
       "      <td>39.608040</td>\n",
       "      <td>9.189088</td>\n",
       "      <td>28.150957</td>\n",
       "      <td>5.402031</td>\n",
       "    </tr>\n",
       "    <tr>\n",
       "      <th>3</th>\n",
       "      <td>2022-10-15 16:20:00</td>\n",
       "      <td>36.188461</td>\n",
       "      <td>-109.907021</td>\n",
       "      <td>1994.45</td>\n",
       "      <td>9</td>\n",
       "      <td>27.0</td>\n",
       "      <td>2.4</td>\n",
       "      <td>5</td>\n",
       "      <td>GPS Schedule</td>\n",
       "      <td>0.0</td>\n",
       "      <td>...</td>\n",
       "      <td>-3.301508</td>\n",
       "      <td>8.440126</td>\n",
       "      <td>-23.683417</td>\n",
       "      <td>6.230520</td>\n",
       "      <td>NaN</td>\n",
       "      <td>0.266029</td>\n",
       "      <td>37.195980</td>\n",
       "      <td>9.208734</td>\n",
       "      <td>27.551326</td>\n",
       "      <td>4.374411</td>\n",
       "    </tr>\n",
       "    <tr>\n",
       "      <th>4</th>\n",
       "      <td>2022-10-15 16:30:00</td>\n",
       "      <td>36.188479</td>\n",
       "      <td>-109.906926</td>\n",
       "      <td>1981.54</td>\n",
       "      <td>4</td>\n",
       "      <td>28.0</td>\n",
       "      <td>2.0</td>\n",
       "      <td>5</td>\n",
       "      <td>GPS Schedule</td>\n",
       "      <td>0.0</td>\n",
       "      <td>...</td>\n",
       "      <td>1.904523</td>\n",
       "      <td>8.006023</td>\n",
       "      <td>-22.648241</td>\n",
       "      <td>5.611088</td>\n",
       "      <td>NaN</td>\n",
       "      <td>0.266327</td>\n",
       "      <td>36.437186</td>\n",
       "      <td>5.428829</td>\n",
       "      <td>26.962726</td>\n",
       "      <td>2.550263</td>\n",
       "    </tr>\n",
       "  </tbody>\n",
       "</table>\n",
       "<p>5 rows × 30 columns</p>\n",
       "</div>"
      ],
      "text/plain": [
       "              GMT Time   Latitude   Longitude  Altitude  Duration  Temperatur  \\\n",
       "0  2022-10-15 15:50:00  36.186840 -109.906149   1989.69        31        18.5   \n",
       "1  2022-10-15 16:00:00  36.186915 -109.906872   1998.64         1        22.5   \n",
       "2  2022-10-15 16:10:00  36.188133 -109.907068   1993.42         2        24.5   \n",
       "3  2022-10-15 16:20:00  36.188461 -109.907021   1994.45         9        27.0   \n",
       "4  2022-10-15 16:30:00  36.188479 -109.906926   1981.54         4        28.0   \n",
       "\n",
       "   DOP  Satellites    Cause of F  Lab_Coord  ...    Y_mean      Y_std  \\\n",
       "0  2.4           5  GPS Schedule        0.0  ... -7.313253  17.161829   \n",
       "1  2.6           5  GPS Schedule        0.0  ... -1.216080  11.235646   \n",
       "2  2.6           5  GPS Schedule        0.0  ... -3.221106   8.686115   \n",
       "3  2.4           5  GPS Schedule        0.0  ... -3.301508   8.440126   \n",
       "4  2.0           5  GPS Schedule        0.0  ...  1.904523   8.006023   \n",
       "\n",
       "      Z_mean      Z_std P_V     Risk1  ODBA_mean   ODBA_std  VeDBA_mean  \\\n",
       "0  -0.771084  22.984712 NaN  0.272153  47.385542  15.697311   32.367942   \n",
       "1 -23.462312  12.015791 NaN  0.264060  41.643216  16.249572   29.370781   \n",
       "2 -23.351759   6.430681 NaN  0.265964  39.608040   9.189088   28.150957   \n",
       "3 -23.683417   6.230520 NaN  0.266029  37.195980   9.208734   27.551326   \n",
       "4 -22.648241   5.611088 NaN  0.266327  36.437186   5.428829   26.962726   \n",
       "\n",
       "   VeDBA_std  \n",
       "0  10.284656  \n",
       "1  11.273015  \n",
       "2   5.402031  \n",
       "3   4.374411  \n",
       "4   2.550263  \n",
       "\n",
       "[5 rows x 30 columns]"
      ]
     },
     "execution_count": 4,
     "metadata": {},
     "output_type": "execute_result"
    }
   ],
   "source": [
    "df_939 = pd.read_csv('../Data/testData/GPS/CSV/939.csv')\n",
    "df_939.head()"
   ]
  },
  {
   "cell_type": "code",
   "execution_count": 14,
   "metadata": {},
   "outputs": [
    {
     "data": {
      "text/plain": [
       "array([6.08621786e-03, 6.72505791e-03, 1.38010341e-02, ...,\n",
       "       3.14216256e+03,            nan,            nan])"
      ]
     },
     "execution_count": 14,
     "metadata": {},
     "output_type": "execute_result"
    }
   ],
   "source": [
    "speed"
   ]
  },
  {
   "cell_type": "code",
   "execution_count": 24,
   "metadata": {},
   "outputs": [
    {
     "data": {
      "text/plain": [
       "(0.3122159542196912, 1.579028786703545)"
      ]
     },
     "execution_count": 24,
     "metadata": {},
     "output_type": "execute_result"
    },
    {
     "data": {
      "image/png": "[encoded data removed]",
      "text/plain": [
       "<Figure size 640x480 with 1 Axes>"
      ]
     },
     "metadata": {},
     "output_type": "display_data"
    }
   ],
   "source": [
    "speed = df_939['speed']\n",
    "speed = speed.dropna()\n",
    "speed = np.sort(speed)\n",
    "alpha = 20\n",
    "plt.hist(speed[speed<500],bins = 20)\n",
    "#plt.xlim(0,20)\n",
    "np.percentile(speed,alpha), np.percentile(speed,100-alpha)"
   ]
  },
  {
   "cell_type": "code",
   "execution_count": 4,
   "metadata": {},
   "outputs": [
    {
     "data": {
      "text/plain": [
       "(2.03571942814069, 35.02119788011925)"
      ]
     },
     "execution_count": 4,
     "metadata": {},
     "output_type": "execute_result"
    },
    {
     "data": {
      "image/png": "[encoded data removed]",
      "text/plain": [
       "<Figure size 432x288 with 1 Axes>"
      ]
     },
     "metadata": {
      "needs_background": "light"
     },
     "output_type": "display_data"
    }
   ],
   "source": [
    "dis = df_939['distance']\n",
    "dis = np.sort(dis)\n",
    "alpha = 0.1\n",
    "dis = dis[int(dis.shape[0]*alpha):int(dis.shape[0]*(1-alpha))]\n",
    "plt.hist(dis)\n",
    "#plt.xlim(0,20)\n",
    "dis[0], dis[-1]"
   ]
  },
  {
   "cell_type": "code",
   "execution_count": 30,
   "metadata": {},
   "outputs": [
    {
     "data": {
      "text/plain": [
       "(37.88944723618091, 46.31859296482413)"
      ]
     },
     "execution_count": 30,
     "metadata": {},
     "output_type": "execute_result"
    },
    {
     "data": {
      "image/png": "[encoded data removed]",
      "text/plain": [
       "<Figure size 640x480 with 1 Axes>"
      ]
     },
     "metadata": {},
     "output_type": "display_data"
    }
   ],
   "source": [
    "ODBA_mean = df_939['ODBA_mean']\n",
    "ODBA_mean = ODBA_mean.dropna()\n",
    "ODBA_mean = np.sort(ODBA_mean)\n",
    "alpha = 20\n",
    "plt.hist(ODBA_mean)\n",
    "#plt.xlim(0,20)\n",
    "np.percentile(ODBA_mean,alpha), np.percentile(ODBA_mean, 100-alpha)"
   ]
  },
  {
   "cell_type": "code",
   "execution_count": 29,
   "metadata": {},
   "outputs": [
    {
     "data": {
      "text/plain": [
       "(1.2833230307189858, 5.609118437717925)"
      ]
     },
     "execution_count": 29,
     "metadata": {},
     "output_type": "execute_result"
    },
    {
     "data": {
      "image/png": "[encoded data removed]",
      "text/plain": [
       "<Figure size 640x480 with 1 Axes>"
      ]
     },
     "metadata": {},
     "output_type": "display_data"
    }
   ],
   "source": [
    "ODBA_std = df_939['ODBA_std']\n",
    "ODBA_std = ODBA_std.dropna()\n",
    "ODBA_std = np.sort(ODBA_std)\n",
    "alpha = 20\n",
    "plt.hist(ODBA_std)\n",
    "#plt.xlim(0,20)\n",
    "np.percentile(ODBA_std, alpha), np.percentile(ODBA_std,100-alpha)"
   ]
  },
  {
   "cell_type": "code",
   "execution_count": 7,
   "metadata": {},
   "outputs": [],
   "source": [
    "speed_low, speed_high = 0.19705118559057702, 2.9181122631977896\n",
    "ODBA_low, ODBA_high = \n",
    "#df_939['']"
   ]
  },
  {
   "cell_type": "code",
   "execution_count": 8,
   "metadata": {},
   "outputs": [
    {
     "data": {
      "text/plain": [
       "(3.0097775901875865, 4.372558137410378)"
      ]
     },
     "execution_count": 8,
     "metadata": {},
     "output_type": "execute_result"
    },
    {
     "data": {
      "image/png": "[encoded data removed]",
      "text/plain": [
       "<Figure size 432x288 with 1 Axes>"
      ]
     },
     "metadata": {
      "needs_background": "light"
     },
     "output_type": "display_data"
    }
   ],
   "source": [
    "ODBA_std = df_939['ODBA_std']\n",
    "ODBA_std = np.sort(ODBA_std)\n",
    "alpha = 0.4\n",
    "ODBA_std = ODBA_std[int(ODBA_std.shape[0]*alpha):int(ODBA_std.shape[0]*(1-alpha))]\n",
    "plt.hist(ODBA_std)\n",
    "#plt.xlim(0,20)\n",
    "ODBA_std[0], ODBA_std[-1]"
   ]
  }
 ],
 "metadata": {
  "kernelspec": {
   "display_name": "geo_env",
   "language": "python",
   "name": "python3"
  },
  "language_info": {
   "codemirror_mode": {
    "name": "ipython",
    "version": 3
   },
   "file_extension": ".py",
   "mimetype": "text/x-python",
   "name": "python",
   "nbconvert_exporter": "python",
   "pygments_lexer": "ipython3",
   "version": "3.10.6"
  },
  "orig_nbformat": 4
 },
 "nbformat": 4,
 "nbformat_minor": 2
}
