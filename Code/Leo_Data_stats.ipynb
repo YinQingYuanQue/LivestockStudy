{
 "cells": [
  {
   "cell_type": "code",
   "execution_count": 6,
   "metadata": {},
   "outputs": [],
   "source": [
    "import pandas as pd\n",
    "import matplotlib.pyplot as plt\n",
    "import numpy as np\n",
    "import geopandas as gpd"
   ]
  },
  {
   "cell_type": "code",
   "execution_count": 12,
   "metadata": {},
   "outputs": [
    {
     "data": {
      "text/html": [
       "<div>\n",
       "<style scoped>\n",
       "    .dataframe tbody tr th:only-of-type {\n",
       "        vertical-align: middle;\n",
       "    }\n",
       "\n",
       "    .dataframe tbody tr th {\n",
       "        vertical-align: top;\n",
       "    }\n",
       "\n",
       "    .dataframe thead th {\n",
       "        text-align: right;\n",
       "    }\n",
       "</style>\n",
       "<table border=\"1\" class=\"dataframe\">\n",
       "  <thead>\n",
       "    <tr style=\"text-align: right;\">\n",
       "      <th></th>\n",
       "      <th>Unnamed: 0</th>\n",
       "      <th>GMT_Time</th>\n",
       "      <th>Latitude</th>\n",
       "      <th>Longitude</th>\n",
       "      <th>Altitude</th>\n",
       "      <th>Duration</th>\n",
       "      <th>Temperatur</th>\n",
       "      <th>DOP</th>\n",
       "      <th>Satellites</th>\n",
       "      <th>Cause_of_F</th>\n",
       "      <th>...</th>\n",
       "      <th>X_mean</th>\n",
       "      <th>X_std</th>\n",
       "      <th>Y_mean</th>\n",
       "      <th>Y_std</th>\n",
       "      <th>Z_mean</th>\n",
       "      <th>Z_std</th>\n",
       "      <th>ODBA_mean</th>\n",
       "      <th>ODBA_std</th>\n",
       "      <th>VeDBA_mean</th>\n",
       "      <th>VeDBA_std</th>\n",
       "    </tr>\n",
       "  </thead>\n",
       "  <tbody>\n",
       "    <tr>\n",
       "      <th>0</th>\n",
       "      <td>0</td>\n",
       "      <td>2023-09-16 14:11:00</td>\n",
       "      <td>36.178331</td>\n",
       "      <td>-109.941692</td>\n",
       "      <td>1968.21</td>\n",
       "      <td>60.0</td>\n",
       "      <td>12.5</td>\n",
       "      <td>1.6</td>\n",
       "      <td>6.0</td>\n",
       "      <td>GPS Schedule</td>\n",
       "      <td>...</td>\n",
       "      <td>-0.340909</td>\n",
       "      <td>19.823016</td>\n",
       "      <td>-10.159091</td>\n",
       "      <td>12.692058</td>\n",
       "      <td>-3.863636</td>\n",
       "      <td>19.496609</td>\n",
       "      <td>45.409091</td>\n",
       "      <td>7.995221</td>\n",
       "      <td>32.029826</td>\n",
       "      <td>5.147748</td>\n",
       "    </tr>\n",
       "    <tr>\n",
       "      <th>1</th>\n",
       "      <td>1</td>\n",
       "      <td>2023-09-16 14:20:00</td>\n",
       "      <td>36.178485</td>\n",
       "      <td>-109.941726</td>\n",
       "      <td>1970.24</td>\n",
       "      <td>11.0</td>\n",
       "      <td>13.5</td>\n",
       "      <td>1.6</td>\n",
       "      <td>6.0</td>\n",
       "      <td>GPS Schedule</td>\n",
       "      <td>...</td>\n",
       "      <td>11.800000</td>\n",
       "      <td>8.814922</td>\n",
       "      <td>5.171429</td>\n",
       "      <td>5.315668</td>\n",
       "      <td>-23.571429</td>\n",
       "      <td>5.632993</td>\n",
       "      <td>43.628571</td>\n",
       "      <td>4.905307</td>\n",
       "      <td>29.058575</td>\n",
       "      <td>3.858097</td>\n",
       "    </tr>\n",
       "    <tr>\n",
       "      <th>2</th>\n",
       "      <td>2</td>\n",
       "      <td>2023-09-16 14:30:00</td>\n",
       "      <td>36.178364</td>\n",
       "      <td>-109.941755</td>\n",
       "      <td>1973.41</td>\n",
       "      <td>10.0</td>\n",
       "      <td>14.5</td>\n",
       "      <td>1.8</td>\n",
       "      <td>5.0</td>\n",
       "      <td>GPS Schedule</td>\n",
       "      <td>...</td>\n",
       "      <td>10.846154</td>\n",
       "      <td>8.798422</td>\n",
       "      <td>4.384615</td>\n",
       "      <td>3.939383</td>\n",
       "      <td>-23.692308</td>\n",
       "      <td>3.022597</td>\n",
       "      <td>41.435897</td>\n",
       "      <td>5.886947</td>\n",
       "      <td>28.218267</td>\n",
       "      <td>1.996457</td>\n",
       "    </tr>\n",
       "    <tr>\n",
       "      <th>3</th>\n",
       "      <td>3</td>\n",
       "      <td>2023-09-16 14:40:00</td>\n",
       "      <td>36.178350</td>\n",
       "      <td>-109.941766</td>\n",
       "      <td>1968.77</td>\n",
       "      <td>11.0</td>\n",
       "      <td>15.5</td>\n",
       "      <td>1.8</td>\n",
       "      <td>6.0</td>\n",
       "      <td>GPS Schedule</td>\n",
       "      <td>...</td>\n",
       "      <td>12.410256</td>\n",
       "      <td>5.925685</td>\n",
       "      <td>4.589744</td>\n",
       "      <td>3.044271</td>\n",
       "      <td>-24.282051</td>\n",
       "      <td>3.713791</td>\n",
       "      <td>42.410256</td>\n",
       "      <td>4.533171</td>\n",
       "      <td>28.514884</td>\n",
       "      <td>3.126206</td>\n",
       "    </tr>\n",
       "    <tr>\n",
       "      <th>4</th>\n",
       "      <td>4</td>\n",
       "      <td>2023-09-16 14:50:00</td>\n",
       "      <td>36.178394</td>\n",
       "      <td>-109.941815</td>\n",
       "      <td>1975.63</td>\n",
       "      <td>11.0</td>\n",
       "      <td>16.5</td>\n",
       "      <td>1.8</td>\n",
       "      <td>6.0</td>\n",
       "      <td>GPS Schedule</td>\n",
       "      <td>...</td>\n",
       "      <td>7.230769</td>\n",
       "      <td>11.865618</td>\n",
       "      <td>3.384615</td>\n",
       "      <td>3.880361</td>\n",
       "      <td>-24.000000</td>\n",
       "      <td>5.965714</td>\n",
       "      <td>40.102564</td>\n",
       "      <td>4.749061</td>\n",
       "      <td>28.682061</td>\n",
       "      <td>2.918705</td>\n",
       "    </tr>\n",
       "  </tbody>\n",
       "</table>\n",
       "<p>5 rows × 32 columns</p>\n",
       "</div>"
      ],
      "text/plain": [
       "   Unnamed: 0             GMT_Time   Latitude   Longitude  Altitude  Duration  \\\n",
       "0           0  2023-09-16 14:11:00  36.178331 -109.941692   1968.21      60.0   \n",
       "1           1  2023-09-16 14:20:00  36.178485 -109.941726   1970.24      11.0   \n",
       "2           2  2023-09-16 14:30:00  36.178364 -109.941755   1973.41      10.0   \n",
       "3           3  2023-09-16 14:40:00  36.178350 -109.941766   1968.77      11.0   \n",
       "4           4  2023-09-16 14:50:00  36.178394 -109.941815   1975.63      11.0   \n",
       "\n",
       "   Temperatur  DOP  Satellites    Cause_of_F  ...     X_mean      X_std  \\\n",
       "0        12.5  1.6         6.0  GPS Schedule  ...  -0.340909  19.823016   \n",
       "1        13.5  1.6         6.0  GPS Schedule  ...  11.800000   8.814922   \n",
       "2        14.5  1.8         5.0  GPS Schedule  ...  10.846154   8.798422   \n",
       "3        15.5  1.8         6.0  GPS Schedule  ...  12.410256   5.925685   \n",
       "4        16.5  1.8         6.0  GPS Schedule  ...   7.230769  11.865618   \n",
       "\n",
       "      Y_mean      Y_std     Z_mean      Z_std  ODBA_mean  ODBA_std  \\\n",
       "0 -10.159091  12.692058  -3.863636  19.496609  45.409091  7.995221   \n",
       "1   5.171429   5.315668 -23.571429   5.632993  43.628571  4.905307   \n",
       "2   4.384615   3.939383 -23.692308   3.022597  41.435897  5.886947   \n",
       "3   4.589744   3.044271 -24.282051   3.713791  42.410256  4.533171   \n",
       "4   3.384615   3.880361 -24.000000   5.965714  40.102564  4.749061   \n",
       "\n",
       "   VeDBA_mean  VeDBA_std  \n",
       "0   32.029826   5.147748  \n",
       "1   29.058575   3.858097  \n",
       "2   28.218267   1.996457  \n",
       "3   28.514884   3.126206  \n",
       "4   28.682061   2.918705  \n",
       "\n",
       "[5 rows x 32 columns]"
      ]
     },
     "execution_count": 12,
     "metadata": {},
     "output_type": "execute_result"
    }
   ],
   "source": [
    "# df_939 = pd.read_csv('../Data/testData/GPS/CSV/939.csv')\n",
    "# df_939.head()\n",
    "\n",
    "df_939 = pd.read_csv('../Data/GPS/2023/CSV/947_cl_R_fuzzyInput.csv')\n",
    "df_939.head()"
   ]
  },
  {
   "cell_type": "code",
   "execution_count": 14,
   "metadata": {},
   "outputs": [
    {
     "data": {
      "text/plain": [
       "array([6.08621786e-03, 6.72505791e-03, 1.38010341e-02, ...,\n",
       "       3.14216256e+03,            nan,            nan])"
      ]
     },
     "execution_count": 14,
     "metadata": {},
     "output_type": "execute_result"
    }
   ],
   "source": [
    "speed"
   ]
  },
  {
   "cell_type": "code",
   "execution_count": 13,
   "metadata": {},
   "outputs": [
    {
     "data": {
      "text/plain": [
       "(0.402448179145848, 2.530744501072734)"
      ]
     },
     "execution_count": 13,
     "metadata": {},
     "output_type": "execute_result"
    },
    {
     "data": {
      "image/png": "[encoded data removed]",
      "text/plain": [
       "<Figure size 640x480 with 1 Axes>"
      ]
     },
     "metadata": {},
     "output_type": "display_data"
    }
   ],
   "source": [
    "speed = df_939['speed']\n",
    "speed = speed.dropna()\n",
    "speed = np.sort(speed)\n",
    "alpha = 20\n",
    "plt.hist(speed[speed<500],bins = 20)\n",
    "#plt.xlim(0,20)\n",
    "np.percentile(speed,alpha), np.percentile(speed,100-alpha)"
   ]
  },
  {
   "cell_type": "code",
   "execution_count": 9,
   "metadata": {},
   "outputs": [
    {
     "data": {
      "text/plain": [
       "(2.813151168103464, 142.69782884147415)"
      ]
     },
     "execution_count": 9,
     "metadata": {},
     "output_type": "execute_result"
    },
    {
     "data": {
      "image/png": "[encoded data removed]",
      "text/plain": [
       "<Figure size 640x480 with 1 Axes>"
      ]
     },
     "metadata": {},
     "output_type": "display_data"
    }
   ],
   "source": [
    "dis = df_939['distance']\n",
    "dis = np.sort(dis)\n",
    "alpha = 0.1\n",
    "dis = dis[int(dis.shape[0]*alpha):int(dis.shape[0]*(1-alpha))]\n",
    "plt.hist(dis)\n",
    "#plt.xlim(0,20)\n",
    "dis[0], dis[-1]"
   ]
  },
  {
   "cell_type": "code",
   "execution_count": 14,
   "metadata": {},
   "outputs": [
    {
     "data": {
      "text/plain": [
       "(37.0, 47.56410256410256)"
      ]
     },
     "execution_count": 14,
     "metadata": {},
     "output_type": "execute_result"
    },
    {
     "data": {
      "image/png": "[encoded data removed]",
      "text/plain": [
       "<Figure size 640x480 with 1 Axes>"
      ]
     },
     "metadata": {},
     "output_type": "display_data"
    }
   ],
   "source": [
    "ODBA_mean = df_939['ODBA_mean']\n",
    "ODBA_mean = ODBA_mean.dropna()\n",
    "ODBA_mean = np.sort(ODBA_mean)\n",
    "alpha = 10\n",
    "plt.hist(ODBA_mean)\n",
    "#plt.xlim(0,20)\n",
    "np.percentile(ODBA_mean,alpha), np.percentile(ODBA_mean, 100-alpha)"
   ]
  },
  {
   "cell_type": "code",
   "execution_count": 11,
   "metadata": {},
   "outputs": [
    {
     "data": {
      "text/plain": [
       "(2.052505217171926, 7.555678005235311)"
      ]
     },
     "execution_count": 11,
     "metadata": {},
     "output_type": "execute_result"
    },
    {
     "data": {
      "image/png": "[encoded data removed]",
      "text/plain": [
       "<Figure size 640x480 with 1 Axes>"
      ]
     },
     "metadata": {},
     "output_type": "display_data"
    }
   ],
   "source": [
    "ODBA_std = df_939['ODBA_std']\n",
    "ODBA_std = ODBA_std.dropna()\n",
    "ODBA_std = np.sort(ODBA_std)\n",
    "alpha = 20\n",
    "plt.hist(ODBA_std)\n",
    "#plt.xlim(0,20)\n",
    "np.percentile(ODBA_std, alpha), np.percentile(ODBA_std,100-alpha)"
   ]
  },
  {
   "cell_type": "code",
   "execution_count": 7,
   "metadata": {},
   "outputs": [],
   "source": [
    "speed_low, speed_high = 0.19705118559057702, 2.9181122631977896\n",
    "ODBA_low, ODBA_high = \n",
    "#df_939['']"
   ]
  },
  {
   "cell_type": "code",
   "execution_count": 8,
   "metadata": {},
   "outputs": [
    {
     "data": {
      "text/plain": [
       "(3.0097775901875865, 4.372558137410378)"
      ]
     },
     "execution_count": 8,
     "metadata": {},
     "output_type": "execute_result"
    },
    {
     "data": {
      "image/png": "[encoded data removed]",
      "text/plain": [
       "<Figure size 432x288 with 1 Axes>"
      ]
     },
     "metadata": {
      "needs_background": "light"
     },
     "output_type": "display_data"
    }
   ],
   "source": [
    "ODBA_std = df_939['ODBA_std']\n",
    "ODBA_std = np.sort(ODBA_std)\n",
    "alpha = 0.4\n",
    "ODBA_std = ODBA_std[int(ODBA_std.shape[0]*alpha):int(ODBA_std.shape[0]*(1-alpha))]\n",
    "plt.hist(ODBA_std)\n",
    "#plt.xlim(0,20)\n",
    "ODBA_std[0], ODBA_std[-1]"
   ]
  }
 ],
 "metadata": {
  "kernelspec": {
   "display_name": "geo_env",
   "language": "python",
   "name": "python3"
  },
  "language_info": {
   "codemirror_mode": {
    "name": "ipython",
    "version": 3
   },
   "file_extension": ".py",
   "mimetype": "text/x-python",
   "name": "python",
   "nbconvert_exporter": "python",
   "pygments_lexer": "ipython3",
   "version": "3.9.13"
  },
  "orig_nbformat": 4
 },
 "nbformat": 4,
 "nbformat_minor": 2
}
